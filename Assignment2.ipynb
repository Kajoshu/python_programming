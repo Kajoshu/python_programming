{
 "cells": [
  {
   "cell_type": "code",
   "execution_count": 1,
   "metadata": {},
   "outputs": [
    {
     "name": "stdout",
     "output_type": "stream",
     "text": [
      "Enter the number of hours worked.45\n",
      "What is your pay rate per hour? 10\n",
      "You worked for 45 hours you will be paid 475.0 dollars\n"
     ]
    }
   ],
   "source": [
    "hours = int(input(\"Enter the number of hours worked.\"))\n",
    "rate = float(input(\"What is your pay rate per hour? \"))\n",
    "pay =0\n",
    "\n",
    "if hours > 40:\n",
    "\tadditionalHours = hours - 40\n",
    "\tadditionalPay = additionalHours * 1.5 * rate\n",
    "\tpay = 40 * rate + additionalPay\n",
    "else:\n",
    "\tpay = hours * rate \n",
    "print(\"You worked for \" + str(hours) + \" hours you will be paid \" + str(pay) +\" dollars\")"
   ]
  },
  {
   "cell_type": "code",
   "execution_count": 3,
   "metadata": {},
   "outputs": [
    {
     "name": "stdout",
     "output_type": "stream",
     "text": [
      "Enter the number of hours worked.34\n",
      "What is your pay rate per hour? 10\n",
      "You worked for 34.0 hours you will be paid 340.0 dollars\n"
     ]
    }
   ],
   "source": [
    "try:\n",
    "    hours = float(input(\"Enter the number of hours worked.\"))\n",
    "    rate = float(input(\"What is your pay rate per hour? \"))\n",
    "    pay = 0 \n",
    "\n",
    "    if hours > 40:\n",
    "        extraHours = hours - 40\n",
    "        additionalPay = extraHours * 1.5 * rate\n",
    "        pay = 40* rate + additionalPay \n",
    "\t\n",
    "    else:\n",
    "        pay = hours * rate \n",
    "    print(\"You worked for \" + str(hours) + \" hours you will be paid \" + str(pay) +\" dollars\")\n",
    "except:\n",
    "    print(\"Please enter Numeric Input\")\n",
    "              \n"
   ]
  }
 ],
 "metadata": {
  "kernelspec": {
   "display_name": "Python 3",
   "language": "python",
   "name": "python3"
  },
  "language_info": {
   "codemirror_mode": {
    "name": "ipython",
    "version": 3
   },
   "file_extension": ".py",
   "mimetype": "text/x-python",
   "name": "python",
   "nbconvert_exporter": "python",
   "pygments_lexer": "ipython3",
   "version": "3.7.3"
  }
 },
 "nbformat": 4,
 "nbformat_minor": 2
}
