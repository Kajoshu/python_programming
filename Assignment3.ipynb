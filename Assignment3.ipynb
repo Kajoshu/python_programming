{
 "cells": [
  {
   "cell_type": "code",
   "execution_count": 10,
   "metadata": {},
   "outputs": [
    {
     "name": "stdout",
     "output_type": "stream",
     "text": [
      "Enter the number of hours worked.45\n",
      "What is your pay rate per hour? 10\n",
      "Your pay is 475.0\n"
     ]
    }
   ],
   "source": [
    "hours = int(input(\"Enter the number of hours worked.\"))\n",
    "rate = float(input(\"What is your pay rate per hour? \"))\n",
    "def computepay(hours,rate):\n",
    "    if hours > 40:\n",
    "        extra_hours = hours - 40\n",
    "        extra_pay = extra_hours * 1.5* rate\n",
    "        pay = 40 * rate + extra_pay\n",
    "    else:\n",
    "        pay = hours * rate\n",
    "    return(pay)\n",
    "print(\"Your pay is\",computepay(hours, rate))"
   ]
  },
  {
   "cell_type": "code",
   "execution_count": null,
   "metadata": {},
   "outputs": [],
   "source": []
  },
  {
   "cell_type": "code",
   "execution_count": null,
   "metadata": {},
   "outputs": [],
   "source": []
  }
 ],
 "metadata": {
  "kernelspec": {
   "display_name": "Python 3",
   "language": "python",
   "name": "python3"
  },
  "language_info": {
   "codemirror_mode": {
    "name": "ipython",
    "version": 3
   },
   "file_extension": ".py",
   "mimetype": "text/x-python",
   "name": "python",
   "nbconvert_exporter": "python",
   "pygments_lexer": "ipython3",
   "version": "3.7.3"
  }
 },
 "nbformat": 4,
 "nbformat_minor": 2
}
