{
 "cells": [
  {
   "cell_type": "code",
   "execution_count": 32,
   "metadata": {},
   "outputs": [
    {
     "name": "stdout",
     "output_type": "stream",
     "text": [
      "{'Sat': 61, 'Fri': 258, 'Thu': 352, 'Wed': 275, 'Tue': 346, 'Mon': 286, 'Sun': 66}\n",
      "(352, 'Thu')\n"
     ]
    }
   ],
   "source": [
    "Ofile = open(\"mbox.txt\",\"r\")\n",
    "popular = {}\n",
    "for i in Ofile:\n",
    "    found = i.startswith(\"From \")\n",
    "    if found == True:\n",
    "        #count2 = count2 + 1\n",
    "        list1 = i.split()\n",
    "        if list1[2] not in popular:\n",
    "            popular[list1[2]] = 1\n",
    "        else:\n",
    "            popular[list1[2]] += 1\n",
    "                \n",
    "print(popular)\n",
    "list2 = []\n",
    "for a,b in popular.items():\n",
    "    list2.append((b,a))\n",
    "    list2.sort(reverse = True)\n",
    "print(list2[0])\n"
   ]
  },
  {
   "cell_type": "code",
   "execution_count": 31,
   "metadata": {},
   "outputs": [
    {
     "name": "stdout",
     "output_type": "stream",
     "text": [
      "Most popular day (140, '29')\n"
     ]
    }
   ],
   "source": [
    "Ofile = open(\"mbox.txt\",\"r\")\n",
    "popular = {}\n",
    "for i in Ofile:\n",
    "    found = i.startswith(\"From \")\n",
    "    if found == True:\n",
    "        list1 = i.split()\n",
    "        if list1[4] not in popular:\n",
    "            popular[list1[4]] = 1\n",
    "        else:\n",
    "            popular[list1[4]] += 1\n",
    "list2 = []\n",
    "for a,b in popular.items():\n",
    "    list2.append((b,a))\n",
    "    list2.sort(reverse = True)\n",
    "print(\"Most popular day\",list2[0])\n"
   ]
  },
  {
   "cell_type": "code",
   "execution_count": null,
   "metadata": {},
   "outputs": [],
   "source": []
  }
 ],
 "metadata": {
  "kernelspec": {
   "display_name": "Python 3",
   "language": "python",
   "name": "python3"
  },
  "language_info": {
   "codemirror_mode": {
    "name": "ipython",
    "version": 3
   },
   "file_extension": ".py",
   "mimetype": "text/x-python",
   "name": "python",
   "nbconvert_exporter": "python",
   "pygments_lexer": "ipython3",
   "version": "3.7.3"
  }
 },
 "nbformat": 4,
 "nbformat_minor": 2
}
